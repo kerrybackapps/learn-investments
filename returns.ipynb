{
 "cells": [
  {
   "cell_type": "code",
   "execution_count": null,
   "id": "fd6f70c3",
   "metadata": {},
   "outputs": [],
   "source": []
  },
  {
   "cell_type": "code",
   "execution_count": 2,
   "id": "dbe231e6",
   "metadata": {},
   "outputs": [],
   "source": [
    "\n",
    "\n",
    "import pandas as pd\n",
    "import plotly.express as px\n",
    "import plotly.graph_objects as go\n",
    "import yfinance as yf\n",
    "from pages.formatting import smallfig\n",
    "from pages.data.ff_annual import ff3_annual as df\n",
    "\n",
    "mkt = (df[\"Mkt-RF\"] + df.RF).squeeze()\n",
    "mkt.index.name = \"Year\"\n",
    "mkt.index = mkt.index.astype(str)\n",
    "\n",
    "dates=[2010,2020]\n",
    "radio=\"Ticker\"\n",
    "ticker=\"TSLA\"\n",
    "\n",
    "def figtbl(dates, radio=\"Market\", ticker=None):\n",
    "    dates = [str(x) + \"-01-01\" for x in dates]\n",
    "    if radio == \"Ticker\":\n",
    "        ticker = ticker.upper()\n",
    "        rets = yf.download(ticker, start='1970-01-01')[\"Close\"]\n",
    "        rets = rets.resample('YE').last().squeeze()\n",
    "        rets.index = rets.index.to_period(\"Y\").astype(str)\n",
    "        rets = rets.pct_change().dropna()\n",
    "    else:\n",
    "        rets = mkt\n",
    "        ticker = \"Market\"\n",
    "\n",
    "    mindate = max(dates[0], rets.index[0])\n",
    "    rets = rets.loc[mindate : dates[1]]\n",
    "\n",
    "    accum = (1 + rets).cumprod()\n",
    "    # accum.loc[mindate - 1] = 1\n",
    "    accum = accum.sort_index()\n",
    "\n",
    "    rets = pd.DataFrame(rets).reset_index()\n",
    "    rets.columns = [\"Year\", \"Return\"]\n",
    "\n",
    "    accum = pd.DataFrame(accum).reset_index()\n",
    "    accum.columns = [\"Year\", \"Compound Return\"]\n",
    "\n",
    "    fig1 = px.line(accum, x=\"Year\", y=\"Compound Return\")\n",
    "    fig2 = px.line(accum, x=\"Year\", y=\"Compound Return\", log_y=True)\n",
    "    z = rets.copy()\n",
    "    tick = ticker.upper() if radio == \"Ticker\" else \"Mkt\"\n",
    "    z.columns = [\"Year\", tick]\n",
    "    trace = go.Box(y=z[tick], text=z.Year, name=tick, hovertemplate=\"%{text}<br>%{y:.1%}<extra></extra>\")\n",
    "    fig3 = go.Figure(trace)\n",
    "    fig3.update_yaxes(tickformat=\".1%\")\n",
    "\n",
    "    fig4 = px.histogram(rets[\"Return\"])\n",
    "    fig5 = px.line(rets, x=\"Year\", y=\"Return\")\n",
    "\n",
    "    string = \"%{x}<br>$%{y:,.2f}<extra></extra>\"\n",
    "    for fig in [fig1, fig2]:\n",
    "        fig.update_traces(mode=\"lines\", hovertemplate=string)\n",
    "        fig.layout.xaxis[\"title\"] = \"Year\"\n",
    "    fig1.layout.yaxis[\"title\"] = ticker + \" Accumulation (from $1)\"\n",
    "    fig2.layout.yaxis[\"title\"] = ticker + \" Accumulation (Log Scale)\"\n",
    "\n",
    "    fig3.layout.xaxis[\"title\"] = None\n",
    "    fig3.update_yaxes(title=None, tickformat=\".0%\")\n",
    "\n",
    "    fig4.layout.xaxis[\"title\"] = ticker + \" Return\"\n",
    "    fig4.layout.yaxis[\"title\"] = \"Number of Years\"\n",
    "    fig4.update_xaxes(tickformat=\".0%\")\n",
    "\n",
    "    fig5.layout.xaxis[\"title\"] = \"Year\"\n",
    "    fig5.update_layout(yaxis_tickformat=\".0%\")\n",
    "    fig5.layout.yaxis[\"title\"] = ticker + \" Return\"\n",
    "\n",
    "    tbl = pd.DataFrame(rets[\"Return\"].describe(percentiles=[0.1, 0.25, 0.5, 0.75, 0.9]).iloc[1:]).reset_index()\n",
    "    tbl.columns = [\"Statistic\", \"Return\"]\n",
    "\n",
    "    return (\n",
    "        smallfig(fig1),\n",
    "        smallfig(fig2),\n",
    "        smallfig(fig3),\n",
    "        smallfig(fig4),\n",
    "        smallfig(fig5),\n",
    "        tbl,\n",
    "    )\n"
   ]
  },
  {
   "cell_type": "code",
   "execution_count": 6,
   "id": "33d60230",
   "metadata": {},
   "outputs": [
    {
     "name": "stderr",
     "output_type": "stream",
     "text": [
      "[*********************100%***********************]  1 of 1 completed\n"
     ]
    }
   ],
   "source": [
    "lst = figtbl(dates, radio, ticker)"
   ]
  },
  {
   "cell_type": "code",
   "execution_count": 9,
   "id": "e83509f8",
   "metadata": {},
   "outputs": [],
   "source": [
    "fig = lst[0]"
   ]
  },
  {
   "cell_type": "code",
   "execution_count": 10,
   "id": "c6dd5d81",
   "metadata": {},
   "outputs": [
    {
     "ename": "ValueError",
     "evalue": "Mime type rendering requires nbformat>=4.2.0 but it is not installed",
     "output_type": "error",
     "traceback": [
      "\u001b[31m---------------------------------------------------------------------------\u001b[39m",
      "\u001b[31mValueError\u001b[39m                                Traceback (most recent call last)",
      "\u001b[36mCell\u001b[39m\u001b[36m \u001b[39m\u001b[32mIn[10]\u001b[39m\u001b[32m, line 1\u001b[39m\n\u001b[32m----> \u001b[39m\u001b[32m1\u001b[39m \u001b[43mfig\u001b[49m\u001b[43m.\u001b[49m\u001b[43mshow\u001b[49m\u001b[43m(\u001b[49m\u001b[43m)\u001b[49m\n",
      "\u001b[36mFile \u001b[39m\u001b[32mc:\\Users\\kerry\\repos\\appcode\\venv\\Lib\\site-packages\\plotly\\basedatatypes.py:3414\u001b[39m, in \u001b[36mBaseFigure.show\u001b[39m\u001b[34m(self, *args, **kwargs)\u001b[39m\n\u001b[32m   3381\u001b[39m \u001b[38;5;250m\u001b[39m\u001b[33;03m\"\"\"\u001b[39;00m\n\u001b[32m   3382\u001b[39m \u001b[33;03mShow a figure using either the default renderer(s) or the renderer(s)\u001b[39;00m\n\u001b[32m   3383\u001b[39m \u001b[33;03mspecified by the renderer argument\u001b[39;00m\n\u001b[32m   (...)\u001b[39m\u001b[32m   3410\u001b[39m \u001b[33;03mNone\u001b[39;00m\n\u001b[32m   3411\u001b[39m \u001b[33;03m\"\"\"\u001b[39;00m\n\u001b[32m   3412\u001b[39m \u001b[38;5;28;01mimport\u001b[39;00m\u001b[38;5;250m \u001b[39m\u001b[34;01mplotly\u001b[39;00m\u001b[34;01m.\u001b[39;00m\u001b[34;01mio\u001b[39;00m\u001b[38;5;250m \u001b[39m\u001b[38;5;28;01mas\u001b[39;00m\u001b[38;5;250m \u001b[39m\u001b[34;01mpio\u001b[39;00m\n\u001b[32m-> \u001b[39m\u001b[32m3414\u001b[39m \u001b[38;5;28;01mreturn\u001b[39;00m \u001b[43mpio\u001b[49m\u001b[43m.\u001b[49m\u001b[43mshow\u001b[49m\u001b[43m(\u001b[49m\u001b[38;5;28;43mself\u001b[39;49m\u001b[43m,\u001b[49m\u001b[43m \u001b[49m\u001b[43m*\u001b[49m\u001b[43margs\u001b[49m\u001b[43m,\u001b[49m\u001b[43m \u001b[49m\u001b[43m*\u001b[49m\u001b[43m*\u001b[49m\u001b[43mkwargs\u001b[49m\u001b[43m)\u001b[49m\n",
      "\u001b[36mFile \u001b[39m\u001b[32mc:\\Users\\kerry\\repos\\appcode\\venv\\Lib\\site-packages\\plotly\\io\\_renderers.py:425\u001b[39m, in \u001b[36mshow\u001b[39m\u001b[34m(fig, renderer, validate, **kwargs)\u001b[39m\n\u001b[32m    420\u001b[39m     \u001b[38;5;28;01mraise\u001b[39;00m \u001b[38;5;167;01mValueError\u001b[39;00m(\n\u001b[32m    421\u001b[39m         \u001b[33m\"\u001b[39m\u001b[33mMime type rendering requires ipython but it is not installed\u001b[39m\u001b[33m\"\u001b[39m\n\u001b[32m    422\u001b[39m     )\n\u001b[32m    424\u001b[39m \u001b[38;5;28;01mif\u001b[39;00m \u001b[38;5;129;01mnot\u001b[39;00m nbformat \u001b[38;5;129;01mor\u001b[39;00m Version(nbformat.__version__) < Version(\u001b[33m\"\u001b[39m\u001b[33m4.2.0\u001b[39m\u001b[33m\"\u001b[39m):\n\u001b[32m--> \u001b[39m\u001b[32m425\u001b[39m     \u001b[38;5;28;01mraise\u001b[39;00m \u001b[38;5;167;01mValueError\u001b[39;00m(\n\u001b[32m    426\u001b[39m         \u001b[33m\"\u001b[39m\u001b[33mMime type rendering requires nbformat>=4.2.0 but it is not installed\u001b[39m\u001b[33m\"\u001b[39m\n\u001b[32m    427\u001b[39m     )\n\u001b[32m    429\u001b[39m display_jupyter_version_warnings()\n\u001b[32m    431\u001b[39m ipython_display.display(bundle, raw=\u001b[38;5;28;01mTrue\u001b[39;00m)\n",
      "\u001b[31mValueError\u001b[39m: Mime type rendering requires nbformat>=4.2.0 but it is not installed"
     ]
    }
   ],
   "source": [
    "fig.show()"
   ]
  }
 ],
 "metadata": {
  "kernelspec": {
   "display_name": "venv",
   "language": "python",
   "name": "python3"
  },
  "language_info": {
   "codemirror_mode": {
    "name": "ipython",
    "version": 3
   },
   "file_extension": ".py",
   "mimetype": "text/x-python",
   "name": "python",
   "nbconvert_exporter": "python",
   "pygments_lexer": "ipython3",
   "version": "3.13.0"
  }
 },
 "nbformat": 4,
 "nbformat_minor": 5
}
